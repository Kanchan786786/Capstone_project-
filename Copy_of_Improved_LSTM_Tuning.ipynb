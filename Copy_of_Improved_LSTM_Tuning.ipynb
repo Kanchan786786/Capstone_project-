{
  "cells": [
    {
      "cell_type": "markdown",
      "metadata": {
        "id": "view-in-github",
        "colab_type": "text"
      },
      "source": [
        "<a href=\"https://colab.research.google.com/github/Kanchan786786/Capstone_project-/blob/main/Copy_of_Improved_LSTM_Tuning.ipynb\" target=\"_parent\"><img src=\"https://colab.research.google.com/assets/colab-badge.svg\" alt=\"Open In Colab\"/></a>"
      ]
    },
    {
      "cell_type": "code",
      "source": [
        "!pip install keras-tuner --upgrade\n"
      ],
      "metadata": {
        "colab": {
          "base_uri": "https://localhost:8080/"
        },
        "id": "d06A0H3lgyqM",
        "outputId": "cf5c32f3-6c74-433f-9736-27785546a0e0"
      },
      "id": "d06A0H3lgyqM",
      "execution_count": null,
      "outputs": [
        {
          "output_type": "stream",
          "name": "stdout",
          "text": [
            "Requirement already satisfied: keras-tuner in /usr/local/lib/python3.11/dist-packages (1.4.7)\n",
            "Requirement already satisfied: keras in /usr/local/lib/python3.11/dist-packages (from keras-tuner) (3.8.0)\n",
            "Requirement already satisfied: packaging in /usr/local/lib/python3.11/dist-packages (from keras-tuner) (24.2)\n",
            "Requirement already satisfied: requests in /usr/local/lib/python3.11/dist-packages (from keras-tuner) (2.32.3)\n",
            "Requirement already satisfied: kt-legacy in /usr/local/lib/python3.11/dist-packages (from keras-tuner) (1.0.5)\n",
            "Requirement already satisfied: absl-py in /usr/local/lib/python3.11/dist-packages (from keras->keras-tuner) (1.4.0)\n",
            "Requirement already satisfied: numpy in /usr/local/lib/python3.11/dist-packages (from keras->keras-tuner) (2.0.2)\n",
            "Requirement already satisfied: rich in /usr/local/lib/python3.11/dist-packages (from keras->keras-tuner) (13.9.4)\n",
            "Requirement already satisfied: namex in /usr/local/lib/python3.11/dist-packages (from keras->keras-tuner) (0.0.8)\n",
            "Requirement already satisfied: h5py in /usr/local/lib/python3.11/dist-packages (from keras->keras-tuner) (3.13.0)\n",
            "Requirement already satisfied: optree in /usr/local/lib/python3.11/dist-packages (from keras->keras-tuner) (0.14.1)\n",
            "Requirement already satisfied: ml-dtypes in /usr/local/lib/python3.11/dist-packages (from keras->keras-tuner) (0.4.1)\n",
            "Requirement already satisfied: charset-normalizer<4,>=2 in /usr/local/lib/python3.11/dist-packages (from requests->keras-tuner) (3.4.1)\n",
            "Requirement already satisfied: idna<4,>=2.5 in /usr/local/lib/python3.11/dist-packages (from requests->keras-tuner) (3.10)\n",
            "Requirement already satisfied: urllib3<3,>=1.21.1 in /usr/local/lib/python3.11/dist-packages (from requests->keras-tuner) (2.3.0)\n",
            "Requirement already satisfied: certifi>=2017.4.17 in /usr/local/lib/python3.11/dist-packages (from requests->keras-tuner) (2025.1.31)\n",
            "Requirement already satisfied: typing-extensions>=4.5.0 in /usr/local/lib/python3.11/dist-packages (from optree->keras->keras-tuner) (4.13.1)\n",
            "Requirement already satisfied: markdown-it-py>=2.2.0 in /usr/local/lib/python3.11/dist-packages (from rich->keras->keras-tuner) (3.0.0)\n",
            "Requirement already satisfied: pygments<3.0.0,>=2.13.0 in /usr/local/lib/python3.11/dist-packages (from rich->keras->keras-tuner) (2.18.0)\n",
            "Requirement already satisfied: mdurl~=0.1 in /usr/local/lib/python3.11/dist-packages (from markdown-it-py>=2.2.0->rich->keras->keras-tuner) (0.1.2)\n"
          ]
        }
      ]
    },
    {
      "cell_type": "code",
      "source": [
        "# from google.colab import drive\n",
        "# drive.mount('/content/drive')"
      ],
      "metadata": {
        "id": "dJY9UFXVNLgi"
      },
      "id": "dJY9UFXVNLgi",
      "execution_count": null,
      "outputs": []
    },
    {
      "cell_type": "code",
      "execution_count": null,
      "id": "014fad9c",
      "metadata": {
        "id": "014fad9c",
        "colab": {
          "base_uri": "https://localhost:8080/"
        },
        "outputId": "0e2182c6-85fc-40dc-9082-989401d29465"
      },
      "outputs": [
        {
          "output_type": "stream",
          "name": "stderr",
          "text": [
            "<ipython-input-3-d292747a5cab>:10: DeprecationWarning: `import kerastuner` is deprecated, please use `import keras_tuner`.\n",
            "  from kerastuner.tuners import BayesianOptimization\n"
          ]
        }
      ],
      "source": [
        "import pandas as pd\n",
        "import numpy as np\n",
        "import matplotlib.pyplot as plt\n",
        "from sklearn.preprocessing import MinMaxScaler\n",
        "from sklearn.metrics import mean_squared_error\n",
        "import tensorflow as tf\n",
        "from tensorflow.keras.models import Sequential\n",
        "from tensorflow.keras.layers import LSTM, Dense, Dropout, Bidirectional\n",
        "from tensorflow.keras.callbacks import EarlyStopping, ReduceLROnPlateau\n",
        "from kerastuner.tuners import BayesianOptimization"
      ]
    },
    {
      "cell_type": "code",
      "execution_count": null,
      "id": "17f0cc6b",
      "metadata": {
        "id": "17f0cc6b"
      },
      "outputs": [],
      "source": [
        "# Load and preprocess data\n",
        "url = \"https://raw.githubusercontent.com/Kanchan786786/Capstone_project-/main/aapl_scaled.csv\"\n",
        "df = pd.read_csv(url)"
      ]
    },
    {
      "cell_type": "code",
      "execution_count": null,
      "id": "5686efd2",
      "metadata": {
        "id": "5686efd2"
      },
      "outputs": [],
      "source": [
        "features = ['High', 'Low', 'Open', 'Volume', 'VWAP', 'Market_Cap',\n",
        "            'SMA_50', 'EMA_50', 'RSI', 'MACD', 'MACD_Signal', 'MACD_Hist']\n",
        "target = 'Close'"
      ]
    },
    {
      "cell_type": "code",
      "execution_count": null,
      "id": "bf996e18",
      "metadata": {
        "id": "bf996e18"
      },
      "outputs": [],
      "source": [
        "# scaler = MinMaxScaler()\n",
        "# df_scaled = pd.DataFrame(scaler.fit_transform(df[features + [target]]),\n",
        "#                          columns=features + [target],\n",
        "#                          index=df.index)"
      ]
    },
    {
      "cell_type": "code",
      "execution_count": null,
      "id": "04f8b289",
      "metadata": {
        "id": "04f8b289"
      },
      "outputs": [],
      "source": [
        "def create_sequences(data, feature_cols, target_col, time_steps=60):\n",
        "    X, y = [], []\n",
        "    for i in range(len(data) - time_steps):\n",
        "        X.append(data[feature_cols].iloc[i:i+time_steps].values)\n",
        "        y.append(data[target_col].iloc[i+time_steps])\n",
        "    return np.array(X), np.array(y)"
      ]
    },
    {
      "cell_type": "code",
      "execution_count": null,
      "id": "ef59fc6e",
      "metadata": {
        "id": "ef59fc6e"
      },
      "outputs": [],
      "source": [
        "X, y = create_sequences(df, features, target)"
      ]
    },
    {
      "cell_type": "code",
      "execution_count": null,
      "id": "64f92d7f",
      "metadata": {
        "id": "64f92d7f"
      },
      "outputs": [],
      "source": [
        "# Train-test split\n",
        "split = int(0.8 * len(X))\n",
        "X_train, X_test = X[:split], X[split:]\n",
        "y_train, y_test = y[:split], y[split:]"
      ]
    },
    {
      "cell_type": "code",
      "execution_count": null,
      "id": "09edf5d9",
      "metadata": {
        "id": "09edf5d9"
      },
      "outputs": [],
      "source": [
        "# Model builder for KerasTuner\n",
        "from tensorflow.keras.optimizers import Adam, RMSprop"
      ]
    },
    {
      "cell_type": "code",
      "source": [
        "import os\n"
      ],
      "metadata": {
        "id": "0taLADRP9zCK"
      },
      "id": "0taLADRP9zCK",
      "execution_count": null,
      "outputs": []
    },
    {
      "cell_type": "code",
      "execution_count": null,
      "id": "34538eca",
      "metadata": {
        "id": "34538eca"
      },
      "outputs": [],
      "source": [
        "\n",
        "\n",
        "\n",
        "# Updated model builder functionimport os\n",
        "import random\n",
        "import numpy as np\n",
        "import tensorflow as tf\n",
        "from tensorflow.keras.models import Sequential\n",
        "from tensorflow.keras.layers import LSTM, Dropout, Dense\n",
        "from tensorflow.keras.optimizers import Adam, RMSprop\n",
        "\n",
        "# Set seed for reproducibility\n",
        "def reset_seeds(seed=42):\n",
        "    os.environ['PYTHONHASHSEED'] = str(seed)\n",
        "    random.seed(seed)\n",
        "    np.random.seed(seed)\n",
        "    tf.random.set_seed(seed)\n",
        "\n",
        "# Updated model builder function\n",
        "def build_model(hp):\n",
        "    reset_seeds()  # Ensures reproducibility on every model build\n",
        "\n",
        "    model = Sequential()\n",
        "    for i in range(hp.Int('num_layers', 1, 3)):\n",
        "        return_sequences = i < hp.get('num_layers') - 1\n",
        "        model.add(LSTM(units=hp.Int(f'units_{i}', min_value=32, max_value=128, step=32),\n",
        "                       return_sequences=return_sequences,\n",
        "                       input_shape=(X_train.shape[1], X_train.shape[2])))\n",
        "        model.add(Dropout(rate=hp.Float(f'dropout_{i}', min_value=0.1, max_value=0.5, step=0.1)))\n",
        "    model.add(Dense(1))\n",
        "\n",
        "    optimizer = hp.Choice('optimizer', ['adam', 'rmsprop'])\n",
        "    lr = hp.Float('learning_rate', 1e-4, 1e-2, sampling='log')\n",
        "\n",
        "    model.compile(\n",
        "        loss='mse',\n",
        "        optimizer=Adam(learning_rate=lr) if optimizer == 'adam' else RMSprop(learning_rate=lr)\n",
        "    )\n",
        "\n",
        "    return model\n",
        "\n",
        "def build_model(hp):\n",
        "    reset_seeds()  # Ensures reproducibility on every model build\n",
        "\n",
        "    model = Sequential()\n",
        "    for i in range(hp.Int('num_layers', 1, 3)):\n",
        "        return_sequences = i < hp.get('num_layers') - 1\n",
        "        model.add(LSTM(units=hp.Int(f'units_{i}', min_value=32, max_value=128, step=32),\n",
        "                       return_sequences=return_sequences,\n",
        "                       input_shape=(X_train.shape[1], X_train.shape[2])))\n",
        "        model.add(Dropout(rate=hp.Float(f'dropout_{i}', min_value=0.1, max_value=0.5, step=0.1)))\n",
        "    model.add(Dense(1))\n",
        "\n",
        "    optimizer = hp.Choice('optimizer', ['adam', 'rmsprop'])\n",
        "    lr = hp.Float('learning_rate', 1e-4, 1e-2, sampling='log')\n",
        "\n",
        "    model.compile(\n",
        "        loss='mse',\n",
        "        optimizer=Adam(learning_rate=lr) if optimizer == 'adam' else RMSprop(learning_rate=lr)\n",
        "    )\n",
        "\n",
        "    return model\n"
      ]
    },
    {
      "cell_type": "code",
      "execution_count": null,
      "id": "51743ddd",
      "metadata": {
        "id": "51743ddd",
        "colab": {
          "base_uri": "https://localhost:8080/"
        },
        "outputId": "df715038-3e25-4a24-93f6-128227adc682"
      },
      "outputs": [
        {
          "output_type": "stream",
          "name": "stdout",
          "text": [
            "Reloading Tuner from lstm_tuning/stock_lstm/tuner0.json\n"
          ]
        }
      ],
      "source": [
        "# Tuner setup\n",
        "tuner = BayesianOptimization(\n",
        "    build_model,\n",
        "    objective='val_loss',\n",
        "    max_trials=10,\n",
        "    executions_per_trial=1,\n",
        "    directory='lstm_tuning',\n",
        "    project_name='stock_lstm')"
      ]
    },
    {
      "cell_type": "code",
      "execution_count": null,
      "id": "f3d07a7f",
      "metadata": {
        "id": "f3d07a7f"
      },
      "outputs": [],
      "source": [
        "# Callbacks\n",
        "early_stop = EarlyStopping(patience=5, restore_best_weights=True)\n",
        "reduce_lr = ReduceLROnPlateau(patience=3, factor=0.5)"
      ]
    },
    {
      "cell_type": "code",
      "execution_count": null,
      "id": "95421fa0",
      "metadata": {
        "id": "95421fa0"
      },
      "outputs": [],
      "source": [
        "\n",
        "tuner.search(X_train, y_train, epochs=30, validation_split=0.2, callbacks=[early_stop, reduce_lr])"
      ]
    },
    {
      "cell_type": "code",
      "execution_count": null,
      "id": "bdfa4d0d",
      "metadata": {
        "id": "bdfa4d0d",
        "colab": {
          "base_uri": "https://localhost:8080/"
        },
        "outputId": "4bff35e5-2230-4434-f56f-290308277a35"
      },
      "outputs": [
        {
          "output_type": "stream",
          "name": "stderr",
          "text": [
            "/usr/local/lib/python3.11/dist-packages/keras/src/layers/rnn/rnn.py:200: UserWarning: Do not pass an `input_shape`/`input_dim` argument to a layer. When using Sequential models, prefer using an `Input(shape)` object as the first layer in the model instead.\n",
            "  super().__init__(**kwargs)\n",
            "/usr/local/lib/python3.11/dist-packages/keras/src/saving/saving_lib.py:757: UserWarning: Skipping variable loading for optimizer 'rmsprop', because it has 2 variables whereas the saved optimizer has 7 variables. \n",
            "  saveable.load_own_variables(weights_store.get(inner_path))\n"
          ]
        }
      ],
      "source": [
        "# Get best model\n",
        "best_model = tuner.get_best_models(num_models=1)[0]"
      ]
    },
    {
      "cell_type": "code",
      "execution_count": null,
      "id": "7db61065",
      "metadata": {
        "id": "7db61065"
      },
      "outputs": [],
      "source": [
        "# Uncomment above two lines to run tuning"
      ]
    },
    {
      "cell_type": "code",
      "execution_count": null,
      "id": "0b421043",
      "metadata": {
        "id": "0b421043",
        "colab": {
          "base_uri": "https://localhost:8080/"
        },
        "outputId": "5db0d9da-0e3c-494a-ab50-1f5d22d7616b"
      },
      "outputs": [
        {
          "output_type": "stream",
          "name": "stdout",
          "text": [
            "Epoch 1/30\n",
            "\u001b[1m125/125\u001b[0m \u001b[32m━━━━━━━━━━━━━━━━━━━━\u001b[0m\u001b[37m\u001b[0m \u001b[1m8s\u001b[0m 47ms/step - loss: 0.0588 - val_loss: 0.0014 - learning_rate: 4.6642e-04\n",
            "Epoch 2/30\n",
            "\u001b[1m125/125\u001b[0m \u001b[32m━━━━━━━━━━━━━━━━━━━━\u001b[0m\u001b[37m\u001b[0m \u001b[1m4s\u001b[0m 34ms/step - loss: 0.0101 - val_loss: 9.4568e-04 - learning_rate: 4.6642e-04\n",
            "Epoch 3/30\n",
            "\u001b[1m125/125\u001b[0m \u001b[32m━━━━━━━━━━━━━━━━━━━━\u001b[0m\u001b[37m\u001b[0m \u001b[1m4s\u001b[0m 33ms/step - loss: 0.0065 - val_loss: 0.0014 - learning_rate: 4.6642e-04\n",
            "Epoch 4/30\n",
            "\u001b[1m125/125\u001b[0m \u001b[32m━━━━━━━━━━━━━━━━━━━━\u001b[0m\u001b[37m\u001b[0m \u001b[1m6s\u001b[0m 39ms/step - loss: 0.0053 - val_loss: 2.3559e-04 - learning_rate: 4.6642e-04\n",
            "Epoch 5/30\n",
            "\u001b[1m125/125\u001b[0m \u001b[32m━━━━━━━━━━━━━━━━━━━━\u001b[0m\u001b[37m\u001b[0m \u001b[1m4s\u001b[0m 34ms/step - loss: 0.0047 - val_loss: 2.8679e-04 - learning_rate: 4.6642e-04\n",
            "Epoch 6/30\n",
            "\u001b[1m125/125\u001b[0m \u001b[32m━━━━━━━━━━━━━━━━━━━━\u001b[0m\u001b[37m\u001b[0m \u001b[1m6s\u001b[0m 40ms/step - loss: 0.0042 - val_loss: 0.0013 - learning_rate: 4.6642e-04\n",
            "Epoch 7/30\n",
            "\u001b[1m125/125\u001b[0m \u001b[32m━━━━━━━━━━━━━━━━━━━━\u001b[0m\u001b[37m\u001b[0m \u001b[1m4s\u001b[0m 32ms/step - loss: 0.0037 - val_loss: 3.0093e-04 - learning_rate: 4.6642e-04\n",
            "Epoch 8/30\n",
            "\u001b[1m125/125\u001b[0m \u001b[32m━━━━━━━━━━━━━━━━━━━━\u001b[0m\u001b[37m\u001b[0m \u001b[1m4s\u001b[0m 34ms/step - loss: 0.0034 - val_loss: 4.4822e-04 - learning_rate: 2.3321e-04\n",
            "Epoch 9/30\n",
            "\u001b[1m125/125\u001b[0m \u001b[32m━━━━━━━━━━━━━━━━━━━━\u001b[0m\u001b[37m\u001b[0m \u001b[1m6s\u001b[0m 42ms/step - loss: 0.0030 - val_loss: 3.5194e-04 - learning_rate: 2.3321e-04\n"
          ]
        }
      ],
      "source": [
        "# To train final model (placeholder):\n",
        "model = build_model(tuner.oracle.get_best_trials(num_trials=1)[0].hyperparameters)\n",
        "history=model.fit(X_train, y_train, epochs=30, batch_size=32, validation_split=0.2,\n",
        "          callbacks=[early_stop, reduce_lr])"
      ]
    },
    {
      "cell_type": "code",
      "execution_count": null,
      "id": "176ee131",
      "metadata": {
        "id": "176ee131",
        "colab": {
          "base_uri": "https://localhost:8080/"
        },
        "outputId": "c4bf706b-f026-440f-d449-376da4d58068"
      },
      "outputs": [
        {
          "output_type": "stream",
          "name": "stdout",
          "text": [
            "\u001b[1m40/40\u001b[0m \u001b[32m━━━━━━━━━━━━━━━━━━━━\u001b[0m\u001b[37m\u001b[0m \u001b[1m1s\u001b[0m 16ms/step\n",
            "Test MSE: 0.15955047481129478\n"
          ]
        }
      ],
      "source": [
        "# Evaluate\n",
        "preds = model.predict(X_test)\n",
        "mse = mean_squared_error(y_test, preds)\n",
        "print(\"Test MSE:\", mse)"
      ]
    },
    {
      "cell_type": "code",
      "execution_count": null,
      "id": "ea3fc226",
      "metadata": {
        "id": "ea3fc226",
        "colab": {
          "base_uri": "https://localhost:8080/",
          "height": 468
        },
        "outputId": "5a50b397-9d49-40dc-dd79-69168e96de63"
      },
      "outputs": [
        {
          "output_type": "display_data",
          "data": {
            "text/plain": [
              "<Figure size 1000x500 with 1 Axes>"
            ],
            "image/png": "[encoded data removed]"
          },
          "metadata": {}
        }
      ],
      "source": [
        "# Plot\n",
        "plt.figure(figsize=(10,5))\n",
        "plt.plot(y_test, label='True')\n",
        "plt.plot(preds, label='Predicted')\n",
        "plt.legend()\n",
        "plt.title('LSTM Stock Prediction')\n",
        "plt.show()\n"
      ]
    },
    {
      "cell_type": "code",
      "source": [
        "# prompt: i want see the r square for my model for both traing and testing\n",
        "\n",
        "from sklearn.metrics import r2_score\n",
        "\n",
        "# # Training R-squared\n",
        "# train_preds = model.predict(X_train)\n",
        "# train_r2 = r2_score(y_train, train_preds)\n",
        "# print(f\"Training R-squared: {train_r2}\")\n",
        "\n",
        "\n",
        "test_r2 = r2_score(y_test, preds)\n",
        "print(f\"Testing R-squared: {test_r2}\")\n"
      ],
      "metadata": {
        "colab": {
          "base_uri": "https://localhost:8080/"
        },
        "id": "iJQkomlMyeD9",
        "outputId": "4ba2c7f1-3265-463d-8af4-66423d46eb59"
      },
      "id": "iJQkomlMyeD9",
      "execution_count": null,
      "outputs": [
        {
          "output_type": "stream",
          "name": "stdout",
          "text": [
            "Testing R-squared: 0.661041842378361\n"
          ]
        }
      ]
    },
    {
      "cell_type": "code",
      "source": [
        "# # prompt: I want to see the feature improtance for all of the columns\n",
        "\n",
        "# import pandas as pd\n",
        "# import numpy as np\n",
        "# # Split data into features (X) and target (y)\n",
        "# X = df[features]\n",
        "# y = df[target]\n",
        "\n",
        "# # Split data into training and testing sets\n",
        "# split_index = int(len(df) * 0.8)\n",
        "# X_train, X_test = X[:split_index], X[split_index:]\n",
        "# y_train, y_test = y[:split_index], y[split_index:]\n",
        "\n",
        "\n",
        "# # Define the model\n",
        "# def build_model(hp):\n",
        "#     model = Sequential()\n",
        "#     model.add(Bidirectional(LSTM(units=hp.Int('units', min_value=32, max_value=256, step=32),\n",
        "#                                  return_sequences=True,\n",
        "#                                  activation='relu',\n",
        "#                                  input_shape=(X_train.shape[1], 1))))  # Corrected input shape\n",
        "#     model.add(Dropout(rate=hp.Float('dropout_1', min_value=0.0, max_value=0.5, default=0.25, step=0.05)))\n",
        "#     model.add(LSTM(units=hp.Int('units_2', min_value=32, max_value=256, step=32),\n",
        "#                    activation='relu'))\n",
        "#     model.add(Dropout(rate=hp.Float('dropout_2', min_value=0.0, max_value=0.5, default=0.25, step=0.05)))\n",
        "#     model.add(Dense(units=1))\n",
        "#     model.compile(\n",
        "#         optimizer=tf.keras.optimizers.Adam(\n",
        "#             hp.Choice('learning_rate', [1e-2, 1e-3, 1e-4])),\n",
        "#         loss='mean_squared_error',\n",
        "#         metrics=['mse'])\n",
        "#     return model\n",
        "\n",
        "# tuner = BayesianOptimization(\n",
        "#     build_model,\n",
        "#     objective='mse',\n",
        "#     max_trials=10,\n",
        "#     executions_per_trial=1,\n",
        "#     directory='./',\n",
        "#     project_name='LSTM_tuning')\n",
        "\n",
        "\n",
        "# tuner.search(x=np.array(X_train), y=np.array(y_train), epochs=10, batch_size=32, validation_split=0.2, verbose=1)\n",
        "\n",
        "# Get the best model\n",
        "best_model = tuner.get_best_models(num_models=1)[0]\n",
        "\n",
        "# Get feature importances (Note: LSTM feature importances are not directly available like in tree-based models)\n",
        "# We'll use the weights of the first layer to approximate feature importance\n",
        "first_layer_weights = best_model.layers[0].get_weights()[0]\n",
        "feature_importances = np.abs(np.mean(first_layer_weights, axis=1)) #Take the average across all units in the first LSTM layer.\n",
        "feature_importance_df = pd.DataFrame({'Feature': features, 'Importance': feature_importances})\n",
        "feature_importance_df\n"
      ],
      "metadata": {
        "colab": {
          "base_uri": "https://localhost:8080/",
          "height": 515
        },
        "id": "IBy9yWP34t5h",
        "outputId": "e3378301-3c76-46e0-ba26-98a9e2df2e71"
      },
      "id": "IBy9yWP34t5h",
      "execution_count": null,
      "outputs": [
        {
          "output_type": "stream",
          "name": "stderr",
          "text": [
            "/usr/local/lib/python3.11/dist-packages/keras/src/layers/rnn/rnn.py:200: UserWarning: Do not pass an `input_shape`/`input_dim` argument to a layer. When using Sequential models, prefer using an `Input(shape)` object as the first layer in the model instead.\n",
            "  super().__init__(**kwargs)\n",
            "/usr/local/lib/python3.11/dist-packages/keras/src/saving/saving_lib.py:757: UserWarning: Skipping variable loading for optimizer 'rmsprop', because it has 2 variables whereas the saved optimizer has 7 variables. \n",
            "  saveable.load_own_variables(weights_store.get(inner_path))\n"
          ]
        },
        {
          "output_type": "execute_result",
          "data": {
            "text/plain": [
              "        Feature  Importance\n",
              "0          High    0.002566\n",
              "1           Low    0.000367\n",
              "2          Open    0.002614\n",
              "3        Volume    0.006476\n",
              "4          VWAP    0.005187\n",
              "5    Market_Cap    0.000962\n",
              "6        SMA_50    0.002697\n",
              "7        EMA_50    0.007654\n",
              "8           RSI    0.004754\n",
              "9          MACD    0.002730\n",
              "10  MACD_Signal    0.004311\n",
              "11    MACD_Hist    0.000543"
            ],
            "text/html": [
              "\n",
              "  <div id=\"df-2ece3369-fb0c-44f6-ada3-952c627c45ae\" class=\"colab-df-container\">\n",
              "    <div>\n",
              "<style scoped>\n",
              "    .dataframe tbody tr th:only-of-type {\n",
              "        vertical-align: middle;\n",
              "    }\n",
              "\n",
              "    .dataframe tbody tr th {\n",
              "        vertical-align: top;\n",
              "    }\n",
              "\n",
              "    .dataframe thead th {\n",
              "        text-align: right;\n",
              "    }\n",
              "</style>\n",
              "<table border=\"1\" class=\"dataframe\">\n",
              "  <thead>\n",
              "    <tr style=\"text-align: right;\">\n",
              "      <th></th>\n",
              "      <th>Feature</th>\n",
              "      <th>Importance</th>\n",
              "    </tr>\n",
              "  </thead>\n",
              "  <tbody>\n",
              "    <tr>\n",
              "      <th>0</th>\n",
              "      <td>High</td>\n",
              "      <td>0.002566</td>\n",
              "    </tr>\n",
              "    <tr>\n",
              "      <th>1</th>\n",
              "      <td>Low</td>\n",
              "      <td>0.000367</td>\n",
              "    </tr>\n",
              "    <tr>\n",
              "      <th>2</th>\n",
              "      <td>Open</td>\n",
              "      <td>0.002614</td>\n",
              "    </tr>\n",
              "    <tr>\n",
              "      <th>3</th>\n",
              "      <td>Volume</td>\n",
              "      <td>0.006476</td>\n",
              "    </tr>\n",
              "    <tr>\n",
              "      <th>4</th>\n",
              "      <td>VWAP</td>\n",
              "      <td>0.005187</td>\n",
              "    </tr>\n",
              "    <tr>\n",
              "      <th>5</th>\n",
              "      <td>Market_Cap</td>\n",
              "      <td>0.000962</td>\n",
              "    </tr>\n",
              "    <tr>\n",
              "      <th>6</th>\n",
              "      <td>SMA_50</td>\n",
              "      <td>0.002697</td>\n",
              "    </tr>\n",
              "    <tr>\n",
              "      <th>7</th>\n",
              "      <td>EMA_50</td>\n",
              "      <td>0.007654</td>\n",
              "    </tr>\n",
              "    <tr>\n",
              "      <th>8</th>\n",
              "      <td>RSI</td>\n",
              "      <td>0.004754</td>\n",
              "    </tr>\n",
              "    <tr>\n",
              "      <th>9</th>\n",
              "      <td>MACD</td>\n",
              "      <td>0.002730</td>\n",
              "    </tr>\n",
              "    <tr>\n",
              "      <th>10</th>\n",
              "      <td>MACD_Signal</td>\n",
              "      <td>0.004311</td>\n",
              "    </tr>\n",
              "    <tr>\n",
              "      <th>11</th>\n",
              "      <td>MACD_Hist</td>\n",
              "      <td>0.000543</td>\n",
              "    </tr>\n",
              "  </tbody>\n",
              "</table>\n",
              "</div>\n",
              "    <div class=\"colab-df-buttons\">\n",
              "\n",
              "  <div class=\"colab-df-container\">\n",
              "    <button class=\"colab-df-convert\" onclick=\"convertToInteractive('df-2ece3369-fb0c-44f6-ada3-952c627c45ae')\"\n",
              "            title=\"Convert this dataframe to an interactive table.\"\n",
              "            style=\"display:none;\">\n",
              "\n",
              "  <svg xmlns=\"http://www.w3.org/2000/svg\" height=\"24px\" viewBox=\"0 -960 960 960\">\n",
              "    <path d=\"M120-120v-720h720v720H120Zm60-500h600v-160H180v160Zm220 220h160v-160H400v160Zm0 220h160v-160H400v160ZM180-400h160v-160H180v160Zm440 0h160v-160H620v160ZM180-180h160v-160H180v160Zm440 0h160v-160H620v160Z\"/>\n",
              "  </svg>\n",
              "    </button>\n",
              "\n",
              "  <style>\n",
              "    .colab-df-container {\n",
              "      display:flex;\n",
              "      gap: 12px;\n",
              "    }\n",
              "\n",
              "    .colab-df-convert {\n",
              "      background-color: #E8F0FE;\n",
              "      border: none;\n",
              "      border-radius: 50%;\n",
              "      cursor: pointer;\n",
              "      display: none;\n",
              "      fill: #1967D2;\n",
              "      height: 32px;\n",
              "      padding: 0 0 0 0;\n",
              "      width: 32px;\n",
              "    }\n",
              "\n",
              "    .colab-df-convert:hover {\n",
              "      background-color: #E2EBFA;\n",
              "      box-shadow: 0px 1px 2px rgba(60, 64, 67, 0.3), 0px 1px 3px 1px rgba(60, 64, 67, 0.15);\n",
              "      fill: #174EA6;\n",
              "    }\n",
              "\n",
              "    .colab-df-buttons div {\n",
              "      margin-bottom: 4px;\n",
              "    }\n",
              "\n",
              "    [theme=dark] .colab-df-convert {\n",
              "      background-color: #3B4455;\n",
              "      fill: #D2E3FC;\n",
              "    }\n",
              "\n",
              "    [theme=dark] .colab-df-convert:hover {\n",
              "      background-color: #434B5C;\n",
              "      box-shadow: 0px 1px 3px 1px rgba(0, 0, 0, 0.15);\n",
              "      filter: drop-shadow(0px 1px 2px rgba(0, 0, 0, 0.3));\n",
              "      fill: #FFFFFF;\n",
              "    }\n",
              "  </style>\n",
              "\n",
              "    <script>\n",
              "      const buttonEl =\n",
              "        document.querySelector('#df-2ece3369-fb0c-44f6-ada3-952c627c45ae button.colab-df-convert');\n",
              "      buttonEl.style.display =\n",
              "        google.colab.kernel.accessAllowed ? 'block' : 'none';\n",
              "\n",
              "      async function convertToInteractive(key) {\n",
              "        const element = document.querySelector('#df-2ece3369-fb0c-44f6-ada3-952c627c45ae');\n",
              "        const dataTable =\n",
              "          await google.colab.kernel.invokeFunction('convertToInteractive',\n",
              "                                                    [key], {});\n",
              "        if (!dataTable) return;\n",
              "\n",
              "        const docLinkHtml = 'Like what you see? Visit the ' +\n",
              "          '<a target=\"_blank\" href=https://colab.research.google.com/notebooks/data_table.ipynb>data table notebook</a>'\n",
              "          + ' to learn more about interactive tables.';\n",
              "        element.innerHTML = '';\n",
              "        dataTable['output_type'] = 'display_data';\n",
              "        await google.colab.output.renderOutput(dataTable, element);\n",
              "        const docLink = document.createElement('div');\n",
              "        docLink.innerHTML = docLinkHtml;\n",
              "        element.appendChild(docLink);\n",
              "      }\n",
              "    </script>\n",
              "  </div>\n",
              "\n",
              "\n",
              "<div id=\"df-bfebf58e-09e6-4923-8aed-97ac83c1588b\">\n",
              "  <button class=\"colab-df-quickchart\" onclick=\"quickchart('df-bfebf58e-09e6-4923-8aed-97ac83c1588b')\"\n",
              "            title=\"Suggest charts\"\n",
              "            style=\"display:none;\">\n",
              "\n",
              "<svg xmlns=\"http://www.w3.org/2000/svg\" height=\"24px\"viewBox=\"0 0 24 24\"\n",
              "     width=\"24px\">\n",
              "    <g>\n",
              "        <path d=\"M19 3H5c-1.1 0-2 .9-2 2v14c0 1.1.9 2 2 2h14c1.1 0 2-.9 2-2V5c0-1.1-.9-2-2-2zM9 17H7v-7h2v7zm4 0h-2V7h2v10zm4 0h-2v-4h2v4z\"/>\n",
              "    </g>\n",
              "</svg>\n",
              "  </button>\n",
              "\n",
              "<style>\n",
              "  .colab-df-quickchart {\n",
              "      --bg-color: #E8F0FE;\n",
              "      --fill-color: #1967D2;\n",
              "      --hover-bg-color: #E2EBFA;\n",
              "      --hover-fill-color: #174EA6;\n",
              "      --disabled-fill-color: #AAA;\n",
              "      --disabled-bg-color: #DDD;\n",
              "  }\n",
              "\n",
              "  [theme=dark] .colab-df-quickchart {\n",
              "      --bg-color: #3B4455;\n",
              "      --fill-color: #D2E3FC;\n",
              "      --hover-bg-color: #434B5C;\n",
              "      --hover-fill-color: #FFFFFF;\n",
              "      --disabled-bg-color: #3B4455;\n",
              "      --disabled-fill-color: #666;\n",
              "  }\n",
              "\n",
              "  .colab-df-quickchart {\n",
              "    background-color: var(--bg-color);\n",
              "    border: none;\n",
              "    border-radius: 50%;\n",
              "    cursor: pointer;\n",
              "    display: none;\n",
              "    fill: var(--fill-color);\n",
              "    height: 32px;\n",
              "    padding: 0;\n",
              "    width: 32px;\n",
              "  }\n",
              "\n",
              "  .colab-df-quickchart:hover {\n",
              "    background-color: var(--hover-bg-color);\n",
              "    box-shadow: 0 1px 2px rgba(60, 64, 67, 0.3), 0 1px 3px 1px rgba(60, 64, 67, 0.15);\n",
              "    fill: var(--button-hover-fill-color);\n",
              "  }\n",
              "\n",
              "  .colab-df-quickchart-complete:disabled,\n",
              "  .colab-df-quickchart-complete:disabled:hover {\n",
              "    background-color: var(--disabled-bg-color);\n",
              "    fill: var(--disabled-fill-color);\n",
              "    box-shadow: none;\n",
              "  }\n",
              "\n",
              "  .colab-df-spinner {\n",
              "    border: 2px solid var(--fill-color);\n",
              "    border-color: transparent;\n",
              "    border-bottom-color: var(--fill-color);\n",
              "    animation:\n",
              "      spin 1s steps(1) infinite;\n",
              "  }\n",
              "\n",
              "  @keyframes spin {\n",
              "    0% {\n",
              "      border-color: transparent;\n",
              "      border-bottom-color: var(--fill-color);\n",
              "      border-left-color: var(--fill-color);\n",
              "    }\n",
              "    20% {\n",
              "      border-color: transparent;\n",
              "      border-left-color: var(--fill-color);\n",
              "      border-top-color: var(--fill-color);\n",
              "    }\n",
              "    30% {\n",
              "      border-color: transparent;\n",
              "      border-left-color: var(--fill-color);\n",
              "      border-top-color: var(--fill-color);\n",
              "      border-right-color: var(--fill-color);\n",
              "    }\n",
              "    40% {\n",
              "      border-color: transparent;\n",
              "      border-right-color: var(--fill-color);\n",
              "      border-top-color: var(--fill-color);\n",
              "    }\n",
              "    60% {\n",
              "      border-color: transparent;\n",
              "      border-right-color: var(--fill-color);\n",
              "    }\n",
              "    80% {\n",
              "      border-color: transparent;\n",
              "      border-right-color: var(--fill-color);\n",
              "      border-bottom-color: var(--fill-color);\n",
              "    }\n",
              "    90% {\n",
              "      border-color: transparent;\n",
              "      border-bottom-color: var(--fill-color);\n",
              "    }\n",
              "  }\n",
              "</style>\n",
              "\n",
              "  <script>\n",
              "    async function quickchart(key) {\n",
              "      const quickchartButtonEl =\n",
              "        document.querySelector('#' + key + ' button');\n",
              "      quickchartButtonEl.disabled = true;  // To prevent multiple clicks.\n",
              "      quickchartButtonEl.classList.add('colab-df-spinner');\n",
              "      try {\n",
              "        const charts = await google.colab.kernel.invokeFunction(\n",
              "            'suggestCharts', [key], {});\n",
              "      } catch (error) {\n",
              "        console.error('Error during call to suggestCharts:', error);\n",
              "      }\n",
              "      quickchartButtonEl.classList.remove('colab-df-spinner');\n",
              "      quickchartButtonEl.classList.add('colab-df-quickchart-complete');\n",
              "    }\n",
              "    (() => {\n",
              "      let quickchartButtonEl =\n",
              "        document.querySelector('#df-bfebf58e-09e6-4923-8aed-97ac83c1588b button');\n",
              "      quickchartButtonEl.style.display =\n",
              "        google.colab.kernel.accessAllowed ? 'block' : 'none';\n",
              "    })();\n",
              "  </script>\n",
              "</div>\n",
              "\n",
              "  <div id=\"id_a3773952-5a90-466c-8d00-f5033600609c\">\n",
              "    <style>\n",
              "      .colab-df-generate {\n",
              "        background-color: #E8F0FE;\n",
              "        border: none;\n",
              "        border-radius: 50%;\n",
              "        cursor: pointer;\n",
              "        display: none;\n",
              "        fill: #1967D2;\n",
              "        height: 32px;\n",
              "        padding: 0 0 0 0;\n",
              "        width: 32px;\n",
              "      }\n",
              "\n",
              "      .colab-df-generate:hover {\n",
              "        background-color: #E2EBFA;\n",
              "        box-shadow: 0px 1px 2px rgba(60, 64, 67, 0.3), 0px 1px 3px 1px rgba(60, 64, 67, 0.15);\n",
              "        fill: #174EA6;\n",
              "      }\n",
              "\n",
              "      [theme=dark] .colab-df-generate {\n",
              "        background-color: #3B4455;\n",
              "        fill: #D2E3FC;\n",
              "      }\n",
              "\n",
              "      [theme=dark] .colab-df-generate:hover {\n",
              "        background-color: #434B5C;\n",
              "        box-shadow: 0px 1px 3px 1px rgba(0, 0, 0, 0.15);\n",
              "        filter: drop-shadow(0px 1px 2px rgba(0, 0, 0, 0.3));\n",
              "        fill: #FFFFFF;\n",
              "      }\n",
              "    </style>\n",
              "    <button class=\"colab-df-generate\" onclick=\"generateWithVariable('feature_importance_df')\"\n",
              "            title=\"Generate code using this dataframe.\"\n",
              "            style=\"display:none;\">\n",
              "\n",
              "  <svg xmlns=\"http://www.w3.org/2000/svg\" height=\"24px\"viewBox=\"0 0 24 24\"\n",
              "       width=\"24px\">\n",
              "    <path d=\"M7,19H8.4L18.45,9,17,7.55,7,17.6ZM5,21V16.75L18.45,3.32a2,2,0,0,1,2.83,0l1.4,1.43a1.91,1.91,0,0,1,.58,1.4,1.91,1.91,0,0,1-.58,1.4L9.25,21ZM18.45,9,17,7.55Zm-12,3A5.31,5.31,0,0,0,4.9,8.1,5.31,5.31,0,0,0,1,6.5,5.31,5.31,0,0,0,4.9,4.9,5.31,5.31,0,0,0,6.5,1,5.31,5.31,0,0,0,8.1,4.9,5.31,5.31,0,0,0,12,6.5,5.46,5.46,0,0,0,6.5,12Z\"/>\n",
              "  </svg>\n",
              "    </button>\n",
              "    <script>\n",
              "      (() => {\n",
              "      const buttonEl =\n",
              "        document.querySelector('#id_a3773952-5a90-466c-8d00-f5033600609c button.colab-df-generate');\n",
              "      buttonEl.style.display =\n",
              "        google.colab.kernel.accessAllowed ? 'block' : 'none';\n",
              "\n",
              "      buttonEl.onclick = () => {\n",
              "        google.colab.notebook.generateWithVariable('feature_importance_df');\n",
              "      }\n",
              "      })();\n",
              "    </script>\n",
              "  </div>\n",
              "\n",
              "    </div>\n",
              "  </div>\n"
            ],
            "application/vnd.google.colaboratory.intrinsic+json": {
              "type": "dataframe",
              "variable_name": "feature_importance_df",
              "summary": "{\n  \"name\": \"feature_importance_df\",\n  \"rows\": 12,\n  \"fields\": [\n    {\n      \"column\": \"Feature\",\n      \"properties\": {\n        \"dtype\": \"string\",\n        \"num_unique_values\": 12,\n        \"samples\": [\n          \"MACD_Signal\",\n          \"MACD\",\n          \"High\"\n        ],\n        \"semantic_type\": \"\",\n        \"description\": \"\"\n      }\n    },\n    {\n      \"column\": \"Importance\",\n      \"properties\": {\n        \"dtype\": \"float32\",\n        \"num_unique_values\": 12,\n        \"samples\": [\n          0.004310673102736473,\n          0.0027296666521579027,\n          0.0025662665721029043\n        ],\n        \"semantic_type\": \"\",\n        \"description\": \"\"\n      }\n    }\n  ]\n}"
            }
          },
          "metadata": {},
          "execution_count": 22
        }
      ]
    },
    {
      "cell_type": "markdown",
      "source": [
        "# Model Summary for APPLE\n",
        "| Model | Activation Function | No.of Layer| Layer_lstm | Dropout (Y/N)|Test Accuracy |No.of epoch|Number of Dropout layer |Droping Rate|Explanation for change | outcome||\n",
        "|:-:|:-:|:-:|:-:|:-:|:-:|:-:|:-:|:-:|:-:|:-:|:-:|\n",
        "| LSTM_1 | Relu | 6 | 50/LSTM_Layer1,50/LSTM_layer2|Y|0.6069 | 20 | 2|0.2 /both layer|it is our base model | base model |\n",
        "| LSTM_2 | Relu | 6 | 50/LSTM_Layer1,50/LSTM_layer2|Y|-0.2286 |  40| 2|0.2 /both layer|Change in epoch | Accuracy decrease drastically |\n",
        "|Improv | Relu | 6 | 200/LSTM_Layer1,150/LSTM_layer2|Y| 0.895|  50| 2|0.2 /both layer|Random search | got the best accuracy but overfitting model so far|\n",
        "|Best_model | Relu/ | 6 | 200/LSTM_Layer1,150/LSTM_layer2|Y| 0.895|  50| 2|0.2 /both layer|Random search | got the best accuracy but overfitting model so far|"
      ],
      "metadata": {
        "id": "GPMJdrNAKoIp"
      },
      "id": "GPMJdrNAKoIp"
    },
    {
      "cell_type": "markdown",
      "source": [
        "## Model Summary for the company Snapchat\n",
        "\n",
        "\n",
        "| Model                     | Type | Layers/Params                    | Activation Function | Dropout Used | Dropout Rate       | Epochs |  Test Accuracy | Tuning Method           | Key Notes                                       | Outcome                              |\n",
        "|:------------------------:|:----:|:--------------------------------:|:-------------------:|:------------:|:------------------:|:------:|:---------------:|:------------------------:|:-----------------------------------------------:|:------------------------------------:|\n",
        "| LSTM_1                   | DL   | 50/LSTM_Layer1, 50/LSTM_Layer2   | ReLU                | Y            | 0.2 / both layers  | 20     |  0.6069         | Base Model              | It is our base model                            | Base model                           |\n",
        "| LSTM_2                   | DL   | 50/LSTM_Layer1, 50/LSTM_Layer2   | ReLU                | Y            | 0.2 / both layers  | 40     |  -0.2286        | Epoch changed           | Overfitting likely due to too many epochs       | Worse than base                      |\n",
        "| LSTM with Random Search  | DL   | 50/LSTM_Layer1, 50/LSTM_Layer2   | ReLU                | Y            | 0.2 / both layers  | 30     |  0.775157       | Random Search           | Tuning helped boost performance                 | Better than base                     |\n",
        "| LSTM with BayesianOptimization | DL | 50/LSTM_Layer1, 50/LSTM_Layer2   | ReLU                | Y            | 0.2 / both layers  | 30     |  0.68708888      | Bayesian Optimization    | Moderate improvement, still below Random Search | Slight improvement                   |\n",
        "| ARIMA                    | TS   | p,d,q (default)                  | N/A                 | N            | N/A                | N/A    |  -0.1374244300   | Random Search           | Non-stationary data; needs differencing         | Try stationarizing data              |\n",
        "| SARIMA                   | TS   | (p,d,q)(P,D,Q,s)                 | N/A                 | N            | N/A                | N/A    | -0.266487648     | Random Search           | Captures seasonality but suffered overfitting   | Overfitting with seasonal terms      |\n",
        "| Prophet                  | TS   | Additive Components              | N/A                 | N            | N/A                | N/A    |  -4.9700         | Random Search           | Easy to implement; severe overfitting           | High overfitting, poor performance   |\n",
        "| SVM                      | ML   | Kernel=RBF, C=1                  | N/A                 | N            | N/A                | N/A    | 0.9594           | Random Search (gamma=0.01) | Excellent accuracy, classic model | Best accuracy but still scope to improvised    |\n"
      ],
      "metadata": {
        "id": "xZprtu_tnKP-"
      },
      "id": "xZprtu_tnKP-"
    },
    {
      "cell_type": "code",
      "source": [
        "from datetime import datetime\n",
        "\n",
        "def summarize_model_performance(history, params=None, model_name=\"LSTM_Model\"):\n",
        "    \"\"\"\n",
        "    Summarize and analyze the performance of the LSTM model after training.\n",
        "    \"\"\"\n",
        "    train_loss = history.history['loss'][-1]\n",
        "    val_loss = history.history['val_loss'][-1]\n",
        "\n",
        "    train_mae = history.history.get('mae', history.history.get('mean_absolute_error', [None]))[-1]\n",
        "    val_mae = history.history.get('val_mae', history.history.get('val_mean_absolute_error', [None]))[-1]\n",
        "\n",
        "    # Feedback logic\n",
        "    feedback = \"\"\n",
        "    if val_loss > train_loss * 1.5:\n",
        "        feedback = \"⚠️ Model may be overfitting. Consider adding regularization or reducing complexity.\"\n",
        "    elif train_loss > val_loss * 1.5:\n",
        "        feedback = \"⚠️ Model may be underfitting. Try training longer or increasing model capacity.\"\n",
        "    elif abs(val_loss - train_loss) < 0.01:\n",
        "        feedback = \"✅ Model is well fit. Validation loss is close to training loss.\"\n",
        "    else:\n",
        "        feedback = \"ℹ️ Model performance is reasonable, but worth tuning further.\"\n",
        "\n",
        "    # Print summary\n",
        "    print(\"=\"*60)\n",
        "    print(f\"📊 Model Summary: {model_name} | Run Time: {datetime.now()}\")\n",
        "    print(\"-\" * 60)\n",
        "    print(f\"🔧 Hyperparameters: {params if params else 'Not Provided'}\")\n",
        "    print(f\"📉 Final Training Loss: {train_loss:.4f}\")\n",
        "    print(f\"📈 Final Validation Loss: {val_loss:.4f}\")\n",
        "    print(f\"🧮 Final Training MAE: {train_mae:.4f}\")\n",
        "    print(f\"🧪 Final Validation MAE: {val_mae:.4f}\")\n",
        "    print(\"-\" * 60)\n",
        "    print(f\"🗣️ Feedback: {feedback}\")\n",
        "    print(\"=\"*60)\n"
      ],
      "metadata": {
        "id": "3MSKVmhXzoLu"
      },
      "id": "3MSKVmhXzoLu",
      "execution_count": null,
      "outputs": []
    },
    {
      "cell_type": "code",
      "source": [
        "\n"
      ],
      "metadata": {
        "id": "FpHt83Bbllmt"
      },
      "id": "FpHt83Bbllmt",
      "execution_count": null,
      "outputs": []
    },
    {
      "cell_type": "code",
      "source": [
        "from sklearn.metrics import mean_squared_error\n",
        "import numpy as np\n",
        "\n",
        "# Predict on test set\n",
        "preds = model.predict(X_test)\n",
        "\n",
        "# Evaluation metrics\n",
        "mse = mean_squared_error(y_test, preds)\n",
        "rmse = np.sqrt(mse)\n",
        "\n",
        "print(\"🔍 Test MSE:\", round(mse, 4))\n",
        "print(\"📏 Test RMSE:\", round(rmse, 4))\n"
      ],
      "metadata": {
        "colab": {
          "base_uri": "https://localhost:8080/"
        },
        "id": "F5SGbfQplxkp",
        "outputId": "dbc692d5-bcaf-45a7-b7a6-93f6cbfd00c4"
      },
      "id": "F5SGbfQplxkp",
      "execution_count": null,
      "outputs": [
        {
          "output_type": "stream",
          "name": "stdout",
          "text": [
            "\u001b[1m40/40\u001b[0m \u001b[32m━━━━━━━━━━━━━━━━━━━━\u001b[0m\u001b[37m\u001b[0m \u001b[1m1s\u001b[0m 13ms/step\n",
            "🔍 Test MSE: 0.1596\n",
            "📏 Test RMSE: 0.3994\n"
          ]
        }
      ]
    },
    {
      "cell_type": "code",
      "source": [
        "# prompt: I want to write the summary from my result i the code format like take the result as variable and give me whole summary\n",
        "\n",
        "def summarize_results(mse, rmse, test_r2, feature_importance_df):\n",
        "    \"\"\"Summarizes the model's performance and feature importances.\"\"\"\n",
        "\n",
        "    summary = f\"\"\"\n",
        "    **Model Performance Summary**\n",
        "\n",
        "    * **Mean Squared Error (MSE):** {mse:.4f}\n",
        "    * **Root Mean Squared Error (RMSE):** {rmse:.4f}\n",
        "    * **R-squared (R2):** {test_r2:.4f}\n",
        "\n",
        "\n",
        "    **Feature Importances**\n",
        "\n",
        "    \"\"\"\n",
        "    summary += feature_importance_df.to_string(index=False)\n",
        "\n",
        "    return summary\n",
        "\n",
        "# Example usage (assuming you have mse, rmse, test_r2, and feature_importance_df variables):\n",
        "# Assuming 'feature_importance_df' is already calculated as in the original code.\n",
        "# Replace with actual variable names from your code.\n",
        "# summary = summarize_results(mse, rmse, test_r2, feature_importance_df)\n",
        "# print(summary)\n"
      ],
      "metadata": {
        "id": "AZMQlAoQEnwn"
      },
      "id": "AZMQlAoQEnwn",
      "execution_count": null,
      "outputs": []
    },
    {
      "cell_type": "code",
      "source": [
        "summary = summarize_results(mse, rmse, test_r2, feature_importance_df)\n",
        "print(summary)"
      ],
      "metadata": {
        "colab": {
          "base_uri": "https://localhost:8080/"
        },
        "id": "8XvraXm3EzLY",
        "outputId": "2172164e-d33c-46cc-be20-aab88fcf0d7b"
      },
      "id": "8XvraXm3EzLY",
      "execution_count": null,
      "outputs": [
        {
          "output_type": "stream",
          "name": "stdout",
          "text": [
            "\n",
            "    **Model Performance Summary**\n",
            "\n",
            "    * **Mean Squared Error (MSE):** 0.1596\n",
            "    * **Root Mean Squared Error (RMSE):** 0.3994\n",
            "    * **R-squared (R2):** 0.6610\n",
            "\n",
            "\n",
            "    **Feature Importances**\n",
            "\n",
            "        Feature  Importance\n",
            "       High    0.002566\n",
            "        Low    0.000367\n",
            "       Open    0.002614\n",
            "     Volume    0.006476\n",
            "       VWAP    0.005187\n",
            " Market_Cap    0.000962\n",
            "     SMA_50    0.002697\n",
            "     EMA_50    0.007654\n",
            "        RSI    0.004754\n",
            "       MACD    0.002730\n",
            "MACD_Signal    0.004311\n",
            "  MACD_Hist    0.000543\n"
          ]
        }
      ]
    },
    {
      "cell_type": "code",
      "source": [],
      "metadata": {
        "id": "nreWlZLrFNki"
      },
      "id": "nreWlZLrFNki",
      "execution_count": null,
      "outputs": []
    }
  ],
  "metadata": {
    "colab": {
      "provenance": [],
      "include_colab_link": true
    },
    "language_info": {
      "name": "python"
    },
    "kernelspec": {
      "name": "python3",
      "display_name": "Python 3"
    }
  },
  "nbformat": 4,
  "nbformat_minor": 5
}